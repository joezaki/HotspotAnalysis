{
 "cells": [
  {
   "cell_type": "code",
   "execution_count": null,
   "id": "b5df12dc",
   "metadata": {},
   "outputs": [],
   "source": [
    "%load_ext autoreload\n",
    "%autoreload 2\n",
    "import sys\n",
    "sys.path.append(\"../HotspotAnalysis/\")\n",
    "import os\n",
    "from AnalysisFunctions import *\n",
    "from ROIFunctions import *\n",
    "from PlottingFunctions import *\n",
    "import cv2\n",
    "import numpy as np\n",
    "from imageio import imwrite\n",
    "import holoviews as hv\n",
    "from holoviews import opts\n",
    "from skimage.measure import block_reduce\n",
    "from IPython.display import display\n",
    "hv.notebook_extension('bokeh')\n",
    "#from IPython.display import display, HTML\n",
    "#display(HTML(\"\"\"\n",
    "#<style>\n",
    "#.output {\n",
    "#    display: flex;\n",
    "#    align-items: center;\n",
    "#    text-align: center;\n",
    "#    }\n",
    "#</style>\n",
    "#\"\"\"))"
   ]
  },
  {
   "cell_type": "markdown",
   "id": "9de26ec4",
   "metadata": {},
   "source": [
    "## Load sample image"
   ]
  },
  {
   "cell_type": "code",
   "execution_count": null,
   "id": "4c6fec5a",
   "metadata": {},
   "outputs": [],
   "source": [
    "imgPath = \".\"\n",
    "imgName = \"S1_PFC_Adult1b_sectionB4R.czi\"\n",
    "savePath = None\n",
    "\n",
    "img, DAPI = loadImage(imgPath, imgName, img_channel=2, DAPI_channel=0)\n",
    "name = imgName.split(\".\")[0]\n",
    "opts.defaults(\n",
    "    opts.GridSpace(shared_xaxis=True, shared_yaxis=True),\n",
    "    opts.Image(cmap='gist_gray', width=int(img.shape[1]/3), height=int(img.shape[0]/3)),\n",
    "    opts.Labels(text_color='white', text_font_size='8pt', text_align='left', text_baseline='bottom'),\n",
    "    opts.Path(color='white'),\n",
    "    opts.Spread(width=600),\n",
    "    opts.Overlay(show_legend=False))\n",
    "\n",
    "%output size=100\n",
    "allChannels = np.dstack((DAPI, img))\n",
    "ds = hv.Dataset((['DAPI','Image'], np.arange(DAPI.shape[1]), np.arange(DAPI.shape[0]), allChannels), ['Channel','X', 'Y'], 'Intensity')\n",
    "allChannelsPlot = ds.to(hv.Image, ['X', 'Y'], dynamic=True)\n",
    "allChannelsPlot.opts(invert_yaxis=True)"
   ]
  },
  {
   "cell_type": "markdown",
   "id": "6cefc2af",
   "metadata": {},
   "source": [
    "## Remove saturated pixels"
   ]
  },
  {
   "cell_type": "code",
   "execution_count": null,
   "id": "530525ba",
   "metadata": {},
   "outputs": [],
   "source": [
    "#%%output size=100\n",
    "if type(img[0,0]) == np.uint8:\n",
    "    threshold = 200\n",
    "elif type(img[0,0]) == np.uint16:\n",
    "    threshold = 50000\n",
    "else:\n",
    "    raise Exception(\"img is not 8- or 16-bit\")\n",
    "imgNew = img.copy()\n",
    "avgPixel = np.mean(img)\n",
    "imgNew[imgNew > threshold] = avgPixel\n",
    "thresholded = np.dstack((img, imgNew))\n",
    "ds = hv.Dataset((np.arange(2), np.arange(img.shape[1]), np.arange(img.shape[0]), thresholded), ['Threshold','X', 'Y'], 'Intensity')\n",
    "thresholdedPlots = ds.to(hv.Image, ['X', 'Y'], dynamic=True)\n",
    "thresholdedPlots.opts(invert_yaxis=True)"
   ]
  },
  {
   "cell_type": "code",
   "execution_count": null,
   "id": "8b17293f",
   "metadata": {},
   "outputs": [],
   "source": [
    "img = imgNew"
   ]
  },
  {
   "cell_type": "code",
   "execution_count": null,
   "id": "6c558e7e",
   "metadata": {},
   "outputs": [],
   "source": [
    "roiPath = os.path.join(imgPath, '{}_ROI.tif'.format(imgName.split('.')[0]))\n",
    "mask, croppedImg, maskedImage, ROIimage, processedImage = load_ROI(img, DAPI, roiPath)\n",
    "#del DAPI"
   ]
  },
  {
   "cell_type": "markdown",
   "id": "dd175578",
   "metadata": {},
   "source": [
    "## Create processed image of randomized pixels"
   ]
  },
  {
   "cell_type": "code",
   "execution_count": null,
   "id": "29ac8057",
   "metadata": {},
   "outputs": [],
   "source": [
    "randArray = maskedImage.copy()\n",
    "random_pixels = np.random.choice(a=maskedImage[~maskedImage.mask].data, size=maskedImage[~maskedImage.mask].data.size, replace=False)\n",
    "randArray[~randArray.mask] = random_pixels"
   ]
  },
  {
   "cell_type": "code",
   "execution_count": null,
   "id": "5a9ff5f7",
   "metadata": {},
   "outputs": [],
   "source": [
    "# from tqdm import tqdm_notebook\n",
    "# for i, val in enumerate(tqdm_notebook(random_pixels)):\n",
    "#     rand_array[~rand_array.mask][i] = val"
   ]
  },
  {
   "cell_type": "code",
   "execution_count": null,
   "id": "bf10d9df",
   "metadata": {},
   "outputs": [],
   "source": [
    "maskedImage.shape"
   ]
  },
  {
   "cell_type": "code",
   "execution_count": null,
   "id": "09964d91",
   "metadata": {
    "scrolled": false
   },
   "outputs": [],
   "source": [
    "%output size=100\n",
    "allChannels = np.dstack((maskedImage.filled(-1), randArray.filled(-1)))\n",
    "ds = hv.Dataset((['Image','Randomized'], np.arange(maskedImage.shape[1]), np.arange(maskedImage.shape[0]), allChannels), ['Channel','X', 'Y'], 'Intensity')\n",
    "allChannelsPlot = ds.to(hv.Image, ['X', 'Y'], dynamic=True)\n",
    "allChannelsPlot.opts(opts.Image(tools=['hover'], invert_yaxis=True, width=int(maskedImage.shape[1]), height=int(maskedImage.shape[0])))"
   ]
  },
  {
   "cell_type": "markdown",
   "id": "4bf7fbc4",
   "metadata": {},
   "source": [
    "## Run hotspot analysis on both actual image and randomized image"
   ]
  },
  {
   "cell_type": "code",
   "execution_count": null,
   "id": "45032955",
   "metadata": {},
   "outputs": [],
   "source": [
    "%%time\n",
    "nx = 20\n",
    "ny = 20\n",
    "FULLname = name + \"_\" + str(nx) + \"x\" + str(ny)\n",
    "stats_actual = Getis(mask, maskedImage, nx, ny)\n",
    "direction_actual, zs_actual, DL_actual, VL_actual, DM_actual, VM_actual, MLaxisZs_actual, DVaxisZs_actual, quadrantStds_actual = processedStats(stats_actual, maskedImage, FULLname)"
   ]
  },
  {
   "cell_type": "code",
   "execution_count": null,
   "id": "a27d850e",
   "metadata": {},
   "outputs": [],
   "source": [
    "%%time\n",
    "nx = 20\n",
    "ny = 20\n",
    "FULLname = name + \"_\" + str(nx) + \"x\" + str(ny)\n",
    "stats_rand = Getis(mask, randArray, nx, ny)\n",
    "direction_rand, zs_rand, DL_rand, VL_rand, DM_rand, VM_rand, MLaxisZs_rand, DVaxisZs_rand, quadrantStds_rand = processedStats(stats_rand, randArray, FULLname)"
   ]
  },
  {
   "cell_type": "code",
   "execution_count": null,
   "id": "82e72d8e",
   "metadata": {},
   "outputs": [],
   "source": [
    "%output size=100\n",
    "scale_rand_plot = True\n",
    "allChannels = np.dstack((zs_actual, zs_rand))\n",
    "ds = hv.Dataset((['Image','Randomized'], np.arange(zs_actual.shape[1]), np.arange(zs_actual.shape[0]), allChannels), ['Channel','X', 'Y'], 'Intensity')\n",
    "allChannelsPlot = ds.to(hv.Image, ['X', 'Y'], dynamic=True)\n",
    "if scale_rand_plot:\n",
    "    display(allChannelsPlot.opts(opts.Image(tools=['hover'],\n",
    "                                            cmap='Spectral_r', colorbar=True, invert_yaxis=True,\n",
    "                                            width=int(maskedImage.shape[1]), height=int(maskedImage.shape[0]),\n",
    "                                            clim=(zs_actual[~np.isnan(zs_actual)].min(),zs_actual[~np.isnan(zs_actual)].max()))))\n",
    "else:\n",
    "    display(allChannelsPlot.opts(opts.Image(tools=['hover'],\n",
    "                                            width=int(maskedImage.shape[1]), height=int(maskedImage.shape[0]),\n",
    "                                            cmap='Spectral_r', colorbar=True, invert_yaxis=True)))"
   ]
  },
  {
   "cell_type": "code",
   "execution_count": null,
   "id": "4bd4aa15",
   "metadata": {},
   "outputs": [],
   "source": [
    "Heatmap_actual = HeatmapPlot(zs_actual)\n",
    "Heatmap_rand = HeatmapPlot(zs_rand)\n",
    "# Heatmap_actual.savefig(((FULLname + \"actual_Heatmap_Plot.pdf\")), bbox_inches=\"tight\")\n",
    "# Heatmap_rand.savefig(((FULLname + \"rand_Heatmap_Plot.pdf\")), bbox_inches=\"tight\")"
   ]
  },
  {
   "cell_type": "code",
   "execution_count": null,
   "id": "7f1c965d",
   "metadata": {},
   "outputs": [],
   "source": [
    "freq_actual, edges_actual = np.histogram(zs_actual[~np.isnan(zs_actual)], 100)\n",
    "freq_rand, edges_rand    = np.histogram(zs_rand[~np.isnan(zs_rand)], 20)\n",
    "\n",
    "color = 'steelblue'\n",
    "xlabel = 'Z Scores'\n",
    "alpha = 0.8\n",
    "line_width = 0.1\n",
    "plot_width = 800\n",
    "aspect = 2\n",
    "(\n",
    " hv.Histogram((edges_actual, freq_actual)).opts(xlabel=xlabel, width=plot_width, aspect=aspect, color=color, alpha=alpha, line_width=line_width) +\n",
    " hv.Histogram((edges_rand, freq_rand)).opts(xlabel=xlabel, width=plot_width, aspect=aspect, color=color, alpha=alpha, line_width=line_width)\n",
    ")"
   ]
  },
  {
   "cell_type": "code",
   "execution_count": null,
   "id": "072ad0d4",
   "metadata": {
    "scrolled": false
   },
   "outputs": [],
   "source": [
    "DV_ML_actual = DV_ML_Plot(stats_actual, zs_actual, MLaxisZs_actual, DVaxisZs_actual, direction_actual)\n",
    "DV_ML_rand = DV_ML_Plot(stats_rand, zs_rand, MLaxisZs_rand, DVaxisZs_rand, direction_rand)\n",
    "# DV_ML_actual.savefig(((FULLname + \"actual_DV_ML_Plot.pdf\")), bbox_inches=\"tight\")\n",
    "# DV_ML_rand.savefig(((FULLname + \"rand_DV_ML_Plot.pdf\")), bbox_inches=\"tight\")"
   ]
  },
  {
   "cell_type": "code",
   "execution_count": null,
   "id": "ebdab3d8",
   "metadata": {},
   "outputs": [],
   "source": [
    "Quadrant_actual = QuadrantPlot(stats_actual, maskedImage, DL_actual, VL_actual, DM_actual, VM_actual)\n",
    "Quadrant_rand = QuadrantPlot(stats_rand, randArray, DL_rand, VL_rand, DM_rand, VM_rand)\n",
    "# Quadrant_actual.savefig(((FULLname + \"actual_Quadrant_Plot.pdf\")), bbox_inches=\"tight\")\n",
    "# Quadrant_rand.savefig(((FULLname + \"rand_Quadrant_Plot.pdf\")), bbox_inches=\"tight\")"
   ]
  },
  {
   "cell_type": "code",
   "execution_count": null,
   "id": "b154f552",
   "metadata": {},
   "outputs": [],
   "source": []
  }
 ],
 "metadata": {
  "kernelspec": {
   "display_name": "Python 3",
   "language": "python",
   "name": "python3"
  },
  "language_info": {
   "codemirror_mode": {
    "name": "ipython",
    "version": 3
   },
   "file_extension": ".py",
   "mimetype": "text/x-python",
   "name": "python",
   "nbconvert_exporter": "python",
   "pygments_lexer": "ipython3",
   "version": "3.9.5"
  }
 },
 "nbformat": 4,
 "nbformat_minor": 5
}
