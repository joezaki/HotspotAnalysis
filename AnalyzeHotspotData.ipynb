{
 "cells": [
  {
   "cell_type": "code",
   "execution_count": null,
   "metadata": {},
   "outputs": [],
   "source": [
    "%load_ext autoreload\n",
    "%autoreload 2\n",
    "import os\n",
    "import numpy as np\n",
    "import pandas as pd\n",
    "\n",
    "import plotly.graph_objects as go\n",
    "from plotly.subplots import make_subplots\n",
    "import plotly.express as px\n",
    "import plotly.figure_factory as ff\n",
    "from scipy.stats import skew\n",
    "import pingouin as pg\n",
    "\n",
    "import hotspot_util"
   ]
  },
  {
   "attachments": {},
   "cell_type": "markdown",
   "metadata": {},
   "source": [
    "***\n",
    "### Load one GetisOrd Stats CSV, specify `dpath`"
   ]
  },
  {
   "cell_type": "code",
   "execution_count": null,
   "metadata": {},
   "outputs": [],
   "source": [
    "dpath = '/Users/joezaki/Documents/Bentley_Lab/Mesias_2023/Revision_Analyses/Hotspot_Summary_Analysis/Hotspot_Data/WT/Mid_Striatum/Adult_Mid_striatum/CtxStrRGP21F3_sectionB3L_CalB_DAPI_20x20_GetisOrdStats copy.csv'\n",
    "data = pd.read_csv(dpath)\n",
    "data.head()"
   ]
  },
  {
   "attachments": {},
   "cell_type": "markdown",
   "metadata": {},
   "source": [
    "### Plot cumulative histogram of Z-Scores"
   ]
  },
  {
   "cell_type": "code",
   "execution_count": null,
   "metadata": {},
   "outputs": [],
   "source": [
    "fig = go.Figure()\n",
    "fig.add_trace(go.Histogram(x=data['Z-Score'], nbinsx=300,  cumulative_enabled=True, histnorm='probability', marker_color='steelblue'))\n",
    "fig.update_layout(template='simple_white', width=800, height=400, xaxis_title='Z-Score', yaxis_title='Frequency')\n",
    "fig.show()"
   ]
  },
  {
   "attachments": {},
   "cell_type": "markdown",
   "metadata": {},
   "source": [
    "### Plot distribution of Z-scores"
   ]
  },
  {
   "cell_type": "code",
   "execution_count": null,
   "metadata": {},
   "outputs": [],
   "source": [
    "fig = go.Figure()\n",
    "fig.add_trace(go.Histogram(x=data['Z-Score'], nbinsx=300,  cumulative_enabled=False, histnorm='probability', marker_color='steelblue'))\n",
    "fig.update_layout(template='simple_white', width=800, height=400, xaxis_title='Z-Score', yaxis_title='Frequency',\n",
    "                  title_text= '{}<br>Skew: {}'.format(os.path.basename(dpath), np.round(skew(data['Z-Score']), 3)))\n",
    "fig.show()"
   ]
  },
  {
   "attachments": {},
   "cell_type": "markdown",
   "metadata": {},
   "source": [
    "### Create distribution plot and CDF plot and save both"
   ]
  },
  {
   "cell_type": "code",
   "execution_count": null,
   "metadata": {},
   "outputs": [],
   "source": [
    "# make distplot and save\n",
    "fig = ff.create_distplot([data['Z-Score']], ['Data'], bin_size=1, colors=['steelblue'], show_hist=True, show_curve=True, show_rug=False)\n",
    "fig.update_layout(width=800, height=400, template='simple_white', dragmode='pan', showlegend=False, xaxis_title='Z-Score', yaxis_title='Frequency',\n",
    "                  title_text= '{}<br>Skew: {}'.format(os.path.basename(dpath), np.round(skew(data['Z-Score']), 3)))\n",
    "fig.show(config={'scrollZoom':True})\n",
    "dist_folder_path = '/Users/joezaki/Desktop/Hotspot_Dists/{}'.format(os.path.dirname(dpath).split('/')[-1])\n",
    "if not os.path.exists(dist_folder_path):\n",
    "    os.makedirs(dist_folder_path)\n",
    "fig.write_image(os.path.join(dist_folder_path, '{}_Dist.png'.format(os.path.basename(dpath).split('.')[0])))\n",
    "\n",
    "\n",
    "# make CDF plot and save\n",
    "fig = px.ecdf(data, x=\"Z-Score\")\n",
    "fig.update_layout(template='simple_white', width=800, height=400, xaxis_title='Z-Score', yaxis_title='Frequency')\n",
    "fig.update_layout(width=800, height=400, template='simple_white', dragmode='pan', showlegend=False, xaxis_title='Z-Score', yaxis_title='Frequency',\n",
    "                  title_text= '{}<br>Skew: {}'.format(os.path.basename(dpath), np.round(skew(data['Z-Score']), 3)))\n",
    "fig.show()\n",
    "cdf_folder_path = '/Users/joezaki/Desktop/Hotspot_CDF/{}'.format(os.path.dirname(dpath).split('/')[-1])\n",
    "if not os.path.exists(cdf_folder_path):\n",
    "    os.makedirs(cdf_folder_path)\n",
    "fig.write_image(os.path.join(cdf_folder_path, '{}_CDF.png'.format(os.path.basename(dpath).split('.')[0])))"
   ]
  },
  {
   "attachments": {},
   "cell_type": "markdown",
   "metadata": {},
   "source": [
    "***\n",
    "### Loop through a folder, make distribution and CDF plots for each file, and save them. Specify `folder_path`"
   ]
  },
  {
   "cell_type": "code",
   "execution_count": null,
   "metadata": {},
   "outputs": [],
   "source": [
    "wt_or_cko = 'WT' # one of 'WT' or 'Rostral'\n",
    "rostral_or_mid = 'Rostral' # one of 'Rostral' or 'Mid'\n",
    "age = 'Adult' # one of 'P7', 'P21', or 'Adult'\n",
    "folder_path = '/Users/joezaki/Documents/Bentley_Lab/Mesias_2023/Revision_Analyses/Hotspot_Summary_Analysis/Hotspot_Data/{}/{}_Striatum/Adult_Rostral_Striatum/'.format(wt_or_cko, rostral_or_mid, age, rostral_or_mid)\n",
    "\n",
    "data_files = np.array(os.listdir(folder_path))\n",
    "is_csv = [x.split('.')[-1] == 'csv' for x in data_files]\n",
    "data_files = data_files[is_csv]\n",
    "\n",
    "for data_file in data_files:\n",
    "    dpath = os.path.join(folder_path, data_file)\n",
    "    data = pd.read_csv(dpath)\n",
    "\n",
    "    # make distplot and save\n",
    "    fig = ff.create_distplot([data['Z-Score']], ['Data'], bin_size=1, colors=['steelblue'], show_hist=True, show_curve=True, show_rug=False)\n",
    "    fig.update_layout(width=800, height=400, template='simple_white', dragmode='pan', showlegend=False, xaxis_title='Z-Score', yaxis_title='Frequency',\n",
    "                    title_text= '{}<br>Skew: {}'.format(os.path.basename(dpath), np.round(skew(data['Z-Score']), 3)))\n",
    "    fig.show(config={'scrollZoom':True})\n",
    "    dist_folder_path = '/Users/joezaki/Desktop/Hotspot_Dists/{}'.format(os.path.dirname(dpath).split('/')[-1])\n",
    "    if not os.path.exists(dist_folder_path):\n",
    "        os.makedirs(dist_folder_path)\n",
    "    fig.write_image(os.path.join(dist_folder_path, '{}_Dist.png'.format(os.path.basename(dpath).split('.')[0])))\n",
    "\n",
    "    # make CDF plot and save\n",
    "    fig = px.ecdf(data, x=\"Z-Score\")\n",
    "    fig.update_layout(template='simple_white', width=800, height=400, xaxis_title='Z-Score', yaxis_title='Frequency')\n",
    "    fig.update_layout(width=800, height=400, template='simple_white', dragmode='pan', showlegend=False, xaxis_title='Z-Score', yaxis_title='Frequency',\n",
    "                    title_text= '{}<br>Skew: {}'.format(os.path.basename(dpath), np.round(skew(data['Z-Score']), 3)))\n",
    "    fig.show()\n",
    "    cdf_folder_path = '/Users/joezaki/Desktop/Hotspot_CDF/{}'.format(os.path.dirname(dpath).split('/')[-1])\n",
    "    if not os.path.exists(cdf_folder_path):\n",
    "        os.makedirs(cdf_folder_path)\n",
    "    fig.write_image(os.path.join(cdf_folder_path, '{}_CDF.png'.format(os.path.basename(dpath).split('.')[0])))"
   ]
  },
  {
   "attachments": {},
   "cell_type": "markdown",
   "metadata": {},
   "source": [
    "### Loop through the above folder and get the average z-score, the skew, and the variance for each image"
   ]
  },
  {
   "cell_type": "code",
   "execution_count": null,
   "metadata": {},
   "outputs": [],
   "source": [
    "data_files = np.array(os.listdir(folder_path))\n",
    "is_csv = [x.split('.')[-1] == 'csv' for x in data_files]\n",
    "data_files = data_files[is_csv]\n",
    "\n",
    "agg_data = pd.DataFrame(columns=['Filename', 'Mean', 'SD', 'Skew'])\n",
    "\n",
    "for data_file in data_files:\n",
    "    dpath = os.path.join(folder_path, data_file)\n",
    "    data = pd.read_csv(dpath)\n",
    "\n",
    "    agg_data = agg_data.append(pd.Series({'Filename':os.path.basename(dpath).split('.')[0],\n",
    "                                          'Mean':data['Z-Score'].mean(),\n",
    "                                          'SD':data['Z-Score'].std(),\n",
    "                                          'Skew':skew(data['Z-Score'])}), ignore_index=True)\n",
    "agg_data['blank'] = ''"
   ]
  },
  {
   "cell_type": "code",
   "execution_count": null,
   "metadata": {},
   "outputs": [],
   "source": [
    "summary_save_path = '/Users/joezaki/Desktop/Hotspot_SummaryStats'\n",
    "summary_save_path = os.path.join(summary_save_path, os.path.dirname(dpath).split('/')[-1])\n",
    "if not os.path.exists(summary_save_path):\n",
    "    os.makedirs(summary_save_path)\n",
    "\n",
    "for plot_var in ['Mean', 'SD', 'Skew']:\n",
    "    save_path = os.path.join(summary_save_path, '{}.png'.format(plot_var))\n",
    "    hotspot_util.plotMeanData(agg_data=agg_data, groupby='blank', plot_var=plot_var, datapoint_var='Filename', plot_title='',\n",
    "                              colors=['steelblue'], plot_datapoints=True, y_title=plot_var, plot_width=250, save_path=save_path)"
   ]
  },
  {
   "attachments": {},
   "cell_type": "markdown",
   "metadata": {},
   "source": [
    "### Make gridded plot for distributions and CDFs for the above folder and save plot"
   ]
  },
  {
   "cell_type": "code",
   "execution_count": null,
   "metadata": {},
   "outputs": [],
   "source": [
    "data_files = np.array(os.listdir(folder_path))\n",
    "is_csv = [x.split('.')[-1] == 'csv' for x in data_files]\n",
    "data_files = data_files[is_csv]\n",
    "\n",
    "cols = 3\n",
    "rows = int(np.ceil(len(data_files) / cols))\n",
    "subplot_titles = [x.split('_Getis')[0] for x in data_files]\n",
    "fig = make_subplots(rows=rows, cols=cols, subplot_titles=subplot_titles, shared_xaxes=False, horizontal_spacing=0.1, vertical_spacing=0.1)\n",
    "\n",
    "for i, data_file in enumerate(data_files):\n",
    "    dpath = os.path.join(folder_path, data_file)\n",
    "    data = pd.read_csv(dpath)\n",
    "\n",
    "    row = int(np.floor(i / cols)) + 1\n",
    "    col = int(i % cols) + 1\n",
    "\n",
    "    distplot_fig = ff.create_distplot([data['Z-Score']], ['Data'], bin_size=1, colors=['steelblue'], show_hist=True, show_curve=True, show_rug=False)\n",
    "\n",
    "    fig.add_trace(distplot_fig['data'][0], row=row, col=col)\n",
    "    fig.add_trace(distplot_fig['data'][1], row=row, col=col)\n",
    "    fig.update_xaxes(title_text='Z-Score', row=row, col=col)\n",
    "    fig.update_yaxes(title_text='Frequency', row=row, col=col)\n",
    "\n",
    "subplot_size = 400\n",
    "fig.update_layout(height=rows*subplot_size, width=cols*subplot_size, template='simple_white', dragmode='pan', showlegend=False,\n",
    "                  xaxis_title='Z-Score', yaxis_title='Frequency', title_text=os.path.dirname(folder_path).split('/')[-1])\n",
    "fig.update_yaxes(matches='y')\n",
    "fig.update_xaxes(matches='x')\n",
    "fig.update_annotations(font_size=12)\n",
    "fig.show()\n",
    "fig.write_image(os.path.join(summary_save_path, 'Dist_Plots.png'))"
   ]
  },
  {
   "cell_type": "code",
   "execution_count": null,
   "metadata": {},
   "outputs": [],
   "source": [
    "data_files = np.array(os.listdir(folder_path))\n",
    "is_csv = [x.split('.')[-1] == 'csv' for x in data_files]\n",
    "data_files = data_files[is_csv]\n",
    "\n",
    "cols = 3\n",
    "rows = int(np.ceil(len(data_files) / cols))\n",
    "subplot_titles = [x.split('_Getis')[0] for x in data_files]\n",
    "fig = make_subplots(rows=rows, cols=cols, subplot_titles=subplot_titles, shared_xaxes=False, horizontal_spacing=0.1, vertical_spacing=0.1)\n",
    "\n",
    "for i, data_file in enumerate(data_files):\n",
    "    dpath = os.path.join(folder_path, data_file)\n",
    "    data = pd.read_csv(dpath)\n",
    "\n",
    "    row = int(np.floor(i / cols)) + 1\n",
    "    col = int(i % cols) + 1\n",
    "\n",
    "    cdf_fig = px.ecdf(data, x=\"Z-Score\")\n",
    "\n",
    "    fig.add_trace(cdf_fig['data'][0], row=row, col=col)\n",
    "    fig.update_xaxes(title_text='Z-Score', row=row, col=col)\n",
    "    fig.update_yaxes(title_text='Frequency', row=row, col=col)\n",
    "\n",
    "subplot_size = 400\n",
    "fig.update_layout(height=rows*subplot_size, width=cols*subplot_size, template='simple_white', dragmode='pan', showlegend=False,\n",
    "                  xaxis_title='Z-Score', yaxis_title='Frequency', title_text=os.path.dirname(folder_path).split('/')[-1])\n",
    "fig.update_yaxes(matches='y')\n",
    "# fig.update_xaxes(matches='x')\n",
    "fig.update_annotations(font_size=12)\n",
    "fig.show()\n",
    "fig.write_image(os.path.join(summary_save_path, 'CDF_Plots.png'))"
   ]
  },
  {
   "attachments": {},
   "cell_type": "markdown",
   "metadata": {},
   "source": [
    "***\n",
    "### Load data for three ages (P7, P21, Adult) and plot average skew across ages"
   ]
  },
  {
   "cell_type": "code",
   "execution_count": null,
   "metadata": {},
   "outputs": [],
   "source": [
    "overall_dpath = '/Users/joezaki/Documents/Bentley_Lab/Mesias_2023/Revision_Analyses/Hotspot_Summary_Analysis/Hotspot_Data/WT/'\n",
    "\n",
    "all_ages_data_dict = {'P7':{'Rostral':os.path.join(overall_dpath, 'Rostral_Striatum/P7_Rostral_striatum/'),\n",
    "                            'Mid'    :os.path.join(overall_dpath, 'Mid_Striatum/P7_Mid_striatum/')},\n",
    "                      'P21':{'Rostral':os.path.join(overall_dpath, 'Rostral_Striatum/P21_Rostral_striatum/'),\n",
    "                             'Mid'    :os.path.join(overall_dpath, 'Mid_Striatum/P21_Mid_striatum/')},\n",
    "                      'Adult':{'Rostral':os.path.join(overall_dpath, 'Rostral_Striatum/Adult_Rostral_striatum/'),\n",
    "                               'Mid'    :os.path.join(overall_dpath, 'Mid_Striatum/Adult_Mid_striatum/')}}"
   ]
  },
  {
   "cell_type": "code",
   "execution_count": null,
   "metadata": {},
   "outputs": [],
   "source": [
    "colnames = ['Mouse', 'PartOfStriatum', 'Age', 'Filename', 'Mean', 'SD', 'Skew']\n",
    "all_ages_data = pd.DataFrame(columns=colnames)\n",
    "\n",
    "for age, age_path in all_ages_data_dict.items():\n",
    "    for rostral_or_mid, folder_path in age_path.items():\n",
    "        data_files = np.array(os.listdir(folder_path))\n",
    "        is_csv = [x.split('.')[-1] == 'csv' for x in data_files]\n",
    "        data_files = data_files[is_csv]\n",
    "\n",
    "        age_data = pd.DataFrame(columns=colnames)\n",
    "\n",
    "        for data_file in data_files:\n",
    "            dpath = os.path.join(folder_path, data_file)\n",
    "            data = pd.read_csv(dpath)\n",
    "            mouse = data_file.split('_section')[0]\n",
    "            age_data = age_data.append(pd.Series({'Mouse':mouse,\n",
    "                                                'PartOfStriatum':rostral_or_mid,\n",
    "                                                'Age':age,\n",
    "                                                'Filename':os.path.basename(dpath).split('.')[0],\n",
    "                                                'Mean':data['Z-Score'].mean(),\n",
    "                                                'SD':data['Z-Score'].std(),\n",
    "                                                'Skew':skew(data['Z-Score'])}), ignore_index=True)\n",
    "        \n",
    "        all_ages_data = all_ages_data.append(age_data)\n",
    "\n",
    "all_ages_data['Age'] = pd.Categorical(all_ages_data['Age'], categories=['P7', 'P21', 'Adult'])\n",
    "all_ages_data['PartOfStriatum'] = pd.Categorical(all_ages_data['PartOfStriatum'])"
   ]
  },
  {
   "cell_type": "code",
   "execution_count": null,
   "metadata": {},
   "outputs": [],
   "source": [
    "agg_data = all_ages_data.copy()\n",
    "groupby = 'Age'\n",
    "plot_var = 'Skew'\n",
    "colors = ['black', 'skyblue', 'lightgrey']\n",
    "hotspot_util.plotMeanData(agg_data=agg_data, groupby=groupby, plot_var=plot_var, colors=colors, datapoint_var='Filename',\n",
    "                          y_title=plot_var, plot_datapoints=True, plot_title=rostral_or_mid)\n",
    "pg.anova(data=agg_data, dv='Skew', between='Age')\n",
    "# pg.pairwise_tests(data=agg_data, dv='Skew', between='Age', padjust='bh')"
   ]
  },
  {
   "cell_type": "code",
   "execution_count": null,
   "metadata": {},
   "outputs": [],
   "source": [
    "agg_data = all_ages_data.copy()\n",
    "\n",
    "groupby = 'Age'\n",
    "separateby = 'PartOfStriatum'\n",
    "colors = ['black', 'skyblue', 'lightgrey']\n",
    "\n",
    "# groupby = 'PartOfStriatum'\n",
    "# separateby = 'Age'\n",
    "# colors = ['slategrey', 'slategrey']\n",
    "\n",
    "plot_var = 'Skew'\n",
    "datapoint_var = 'Mouse'\n",
    "hotspot_util.plotAcrossGroups(agg_data=agg_data, groupby=groupby, separateby=separateby, plot_var=plot_var, datapoint_var=datapoint_var,\n",
    "                              plot_datalines=False, plot_datapoints=True, y_title=plot_var, colors=colors, title='')\n",
    "pg.mixed_anova(data=agg_data, dv=plot_var, between='Age', within='PartOfStriatum', subject='Mouse')\n",
    "# pg.pairwise_tests(data=agg_data, dv=plot_var, between='Age', within='PartOfStriatum', subject='Mouse', within_first=True, padjust='bh')"
   ]
  },
  {
   "attachments": {},
   "cell_type": "markdown",
   "metadata": {},
   "source": [
    "### Compare skew of WT vs cKO at adulthood"
   ]
  },
  {
   "cell_type": "code",
   "execution_count": null,
   "metadata": {},
   "outputs": [],
   "source": [
    "overall_dpath =  '/Users/joezaki/Documents/Bentley_Lab/Mesias_2023/Revision_Analyses/Hotspot_Summary_Analysis/Hotspot_Data/'\n",
    "\n",
    "wt_paths  = {'Mid'     : os.path.join(overall_dpath, 'WT/Mid_Striatum/Adult_Mid_Striatum/'),\n",
    "             'Rostral' : os.path.join(overall_dpath, 'WT/Rostral_Striatum/Adult_Rostral_Striatum/')}\n",
    "cko_paths = {'Mid'     : os.path.join(overall_dpath, 'cKO/Mid_Striatum/Adult_Mid_Striatum/'),\n",
    "             'Rostral' : os.path.join(overall_dpath, 'cKO/Rostral_Striatum/Adult_Rostral_Striatum/')}\n",
    "group_paths = {'WT':wt_paths,\n",
    "               'cKO':cko_paths}\n",
    "\n",
    "colnames = ['Mouse', 'Group', 'PartOfStriatum', 'Filename', 'Mean', 'SD', 'Skew']\n",
    "wt_cko_df = pd.DataFrame(columns=colnames)\n",
    "\n",
    "\n",
    "for group, path_dict in group_paths.items():\n",
    "\n",
    "    for part_of_striatum, folder_path in path_dict.items():\n",
    "        \n",
    "        data_files = np.array(os.listdir(folder_path))\n",
    "        is_csv = [x.split('.')[-1] == 'csv' for x in data_files]\n",
    "        data_files = data_files[is_csv]\n",
    "\n",
    "        for data_file in data_files:\n",
    "            dpath = os.path.join(folder_path, data_file)\n",
    "            data = pd.read_csv(dpath)\n",
    "            mouse = data_file.split('_section')[0]\n",
    "            wt_cko_df = wt_cko_df.append(pd.Series({'Mouse':mouse,\n",
    "                                                    'Group':group,\n",
    "                                                    'PartOfStriatum':part_of_striatum,\n",
    "                                                    'Filename':os.path.basename(dpath).split('.')[0],\n",
    "                                                    'Mean':data['Z-Score'].mean(),\n",
    "                                                    'SD':data['Z-Score'].std(),\n",
    "                                                    'Skew':skew(data['Z-Score'])}), ignore_index=True)\n",
    "\n",
    "wt_cko_df['Group'] = pd.Categorical(wt_cko_df['Group'], categories=['WT', 'cKO'])\n",
    "wt_cko_df['PartOfStriatum'] = pd.Categorical(wt_cko_df['PartOfStriatum'], categories=['Rostral', 'Mid'])"
   ]
  },
  {
   "cell_type": "code",
   "execution_count": null,
   "metadata": {},
   "outputs": [],
   "source": [
    "agg_data = wt_cko_df.copy()\n",
    "groupby = 'Group'\n",
    "plot_var = 'Mean'\n",
    "colors = ['black', 'purple']\n",
    "hotspot_util.plotMeanData(agg_data=wt_cko_df, groupby=groupby, plot_var=plot_var, plot_datapoints=True, datapoint_var='Mouse', y_title=plot_var, colors=colors)\n",
    "pg.anova(data=agg_data, dv=plot_var, between=groupby)"
   ]
  },
  {
   "cell_type": "code",
   "execution_count": null,
   "metadata": {},
   "outputs": [],
   "source": [
    "agg_data = wt_cko_df.copy()\n",
    "groupby = 'Group'\n",
    "separateby = 'PartOfStriatum'\n",
    "\n",
    "groupby = 'PartOfStriatum'\n",
    "separateby = 'Group'\n",
    "\n",
    "plot_var = 'Mean'\n",
    "colors = ['black', 'purple']\n",
    "datapoint_var = 'Mouse'\n",
    "hotspot_util.plotAcrossGroups(agg_data=wt_cko_df, groupby=groupby, separateby=separateby, plot_var=plot_var, datapoint_var=datapoint_var,\n",
    "                              plot_datalines=True, plot_datapoints=False, y_title=plot_var, colors=colors, title='')\n",
    "pg.mixed_anova(data=agg_data, dv=plot_var, between='Group', within='PartOfStriatum', subject='Mouse')"
   ]
  },
  {
   "cell_type": "code",
   "execution_count": null,
   "metadata": {},
   "outputs": [],
   "source": []
  }
 ],
 "metadata": {
  "kernelspec": {
   "display_name": "hotspot",
   "language": "python",
   "name": "python3"
  },
  "language_info": {
   "codemirror_mode": {
    "name": "ipython",
    "version": 3
   },
   "file_extension": ".py",
   "mimetype": "text/x-python",
   "name": "python",
   "nbconvert_exporter": "python",
   "pygments_lexer": "ipython3",
   "version": "3.11.0"
  },
  "orig_nbformat": 4
 },
 "nbformat": 4,
 "nbformat_minor": 2
}
