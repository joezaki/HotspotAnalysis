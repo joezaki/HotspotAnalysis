{
 "cells": [
  {
   "cell_type": "markdown",
   "metadata": {},
   "source": [
    "# **Hotspot Analysis:**"
   ]
  },
  {
   "cell_type": "markdown",
   "metadata": {},
   "source": [
    "#### Import libraries"
   ]
  },
  {
   "cell_type": "code",
   "execution_count": null,
   "metadata": {},
   "outputs": [],
   "source": [
    "import sys\n",
    "sys.path.append(\"./HotspotAnalysis/\")\n",
    "import os\n",
    "from AnalysisFunctions import *\n",
    "from ROIFunctions import *\n",
    "from PlottingFunctions import *\n",
    "import cv2\n",
    "import numpy as np\n",
    "from imageio import imwrite\n",
    "import holoviews as hv\n",
    "from holoviews import opts\n",
    "from skimage.measure import block_reduce\n",
    "hv.notebook_extension('bokeh')\n",
    "#from IPython.display import display, HTML\n",
    "#display(HTML(\"\"\"\n",
    "#<style>\n",
    "#.output {\n",
    "#    display: flex;\n",
    "#    align-items: center;\n",
    "#    text-align: center;\n",
    "#    }\n",
    "#</style>\n",
    "#\"\"\"))"
   ]
  },
  {
   "cell_type": "markdown",
   "metadata": {},
   "source": [
    "# **Image Processing**"
   ]
  },
  {
   "cell_type": "markdown",
   "metadata": {},
   "source": [
    "## 1. Load image & set image name\n",
    "\n",
    "- ##### Write the file path to the folder where your image is located in *'imgPath'*\n",
    "- ##### Write the image file name in *'imageName'*\n",
    "- ##### Image names should be written with the following format: \"MouseName_ExperimentalInfo_sectionX#D.ext\", where: \n",
    "> ##### X is the row number of the section\n",
    "> ##### # is the section number\n",
    "> ##### D is the direction of the section ('L' or 'l' for left; 'R' or 'r' for right)\n",
    "> ##### ext is the file extension (e.g. 'tif' or 'czi')\n",
    "- ##### Write which channel is the channel to be analyzed in *'channelOfInterest'* (i.e. \"green\", \"red\")"
   ]
  },
  {
   "cell_type": "code",
   "execution_count": null,
   "metadata": {},
   "outputs": [],
   "source": [
    "# imgPath = \"/Users/joezaki/Downloads/CtxStrRGP97M/CtxStrRGP97M2/\"\n",
    "# imgName = \"CtxStrRGP97M2_sectionC2_CalB_DAPI.czi\"\n",
    "imgPath = '/Volumes/Elements/S1_PFC_Adult1/'\n",
    "imgName = 'S1_PFC_Adult1c_sectionC4R.czi'\n",
    "savePath = None\n",
    "\n",
    "img, DAPI = loadImage(imgPath, imgName, img_channel=1, DAPI_channel=0)\n",
    "name = imgName.split(\".\")[0]\n",
    "opts.defaults(\n",
    "    opts.GridSpace(shared_xaxis=True, shared_yaxis=True),\n",
    "    opts.Image(cmap='gist_gray', width=int(img.shape[1]/3), height=int(img.shape[0]/3)),\n",
    "    opts.Labels(text_color='white', text_font_size='8pt', text_align='left', text_baseline='bottom'),\n",
    "    opts.Path(color='white'),\n",
    "    opts.Spread(width=600),\n",
    "    opts.Overlay(show_legend=False))"
   ]
  },
  {
   "cell_type": "markdown",
   "metadata": {},
   "source": [
    "##### Use the following chunk if you'd like to downsample your images:"
   ]
  },
  {
   "cell_type": "code",
   "execution_count": null,
   "metadata": {},
   "outputs": [],
   "source": [
    "row_downsample = 2\n",
    "col_downsample = 2\n",
    "img = block_reduce(img, (row_downsample,col_downsample), np.sum)#.astype('uint8')\n",
    "DAPI = block_reduce(DAPI, (row_downsample,col_downsample), np.sum)#.astype('uint8')"
   ]
  },
  {
   "cell_type": "markdown",
   "metadata": {},
   "source": [
    "### Plots the image channel alongside the DAPI channel"
   ]
  },
  {
   "cell_type": "code",
   "execution_count": null,
   "metadata": {},
   "outputs": [],
   "source": [
    "%output size=100\n",
    "allChannels = np.dstack((DAPI, img))\n",
    "ds = hv.Dataset((['DAPI','Image'], np.arange(DAPI.shape[1]), np.arange(DAPI.shape[0]), allChannels), ['Channel','X', 'Y'], 'Intensity')\n",
    "allChannelsPlot = ds.to(hv.Image, ['X', 'Y'], dynamic=True)\n",
    "allChannelsPlot.opts(invert_yaxis=True)"
   ]
  },
  {
   "cell_type": "markdown",
   "metadata": {},
   "source": [
    "## 2. Remove saturated pixels"
   ]
  },
  {
   "cell_type": "markdown",
   "metadata": {},
   "source": [
    "##### _Note_: Change threshold based on bit depth of image"
   ]
  },
  {
   "cell_type": "code",
   "execution_count": null,
   "metadata": {},
   "outputs": [],
   "source": [
    "#%%output size=100\n",
    "if type(img[0,0]) == np.uint8:\n",
    "    threshold = 200\n",
    "elif type(img[0,0]) == np.uint16:\n",
    "    threshold = 50000\n",
    "else:\n",
    "    raise Exception(\"img is not 8- or 16-bit\")\n",
    "imgNew = img.copy()\n",
    "avgPixel = np.mean(img)\n",
    "imgNew[imgNew > threshold] = avgPixel\n",
    "thresholded = np.dstack((img, imgNew))\n",
    "ds = hv.Dataset((np.arange(2), np.arange(img.shape[1]), np.arange(img.shape[0]), thresholded), ['Threshold','X', 'Y'], 'Intensity')\n",
    "thresholdedPlots = ds.to(hv.Image, ['X', 'Y'], dynamic=True)\n",
    "thresholdedPlots.opts(invert_yaxis=True)"
   ]
  },
  {
   "cell_type": "markdown",
   "metadata": {},
   "source": [
    "##### Assign thresholded image to img once you are satisfied with the saturated pixel removal"
   ]
  },
  {
   "cell_type": "code",
   "execution_count": null,
   "metadata": {},
   "outputs": [],
   "source": [
    "img = imgNew"
   ]
  },
  {
   "cell_type": "markdown",
   "metadata": {},
   "source": [
    "## 3. Draw striatum ROI or load pre-drawn ROI"
   ]
  },
  {
   "cell_type": "markdown",
   "metadata": {},
   "source": [
    "##### Option 1: Double click to begin ROI, draw ROI with single clicks, end ROI with double click"
   ]
  },
  {
   "cell_type": "code",
   "execution_count": null,
   "metadata": {},
   "outputs": [],
   "source": [
    "%output size=30\n",
    "region=['ROI']\n",
    "image,vertices = ROI_plot(cv2.convertScaleAbs(DAPI, alpha=1, beta=-100),region)\n",
    "hv.ipython.display(image)"
   ]
  },
  {
   "cell_type": "code",
   "execution_count": null,
   "metadata": {},
   "outputs": [],
   "source": [
    "ROI_masks, mask, croppedImg, maskedImage, ROIimage, processedImage = make_ROI(img, DAPI, region, vertices)\n",
    "#del DAPI"
   ]
  },
  {
   "cell_type": "markdown",
   "metadata": {},
   "source": [
    "##### Option 2: Supply an roiPath to where the ROI mask is located\n",
    ">##### If no roiPath is supplied, it is assumed in the line below that the ROI lives in your `imgPath` in a folder named `ROIs` and is named as the `imgName` with `_ROI.tif` attached to the end"
   ]
  },
  {
   "cell_type": "code",
   "execution_count": null,
   "metadata": {},
   "outputs": [],
   "source": [
    "roiPath = os.path.join(os.path.join(imgPath, 'ROIs'), '{}_ROI.tif'.format(imgName))\n",
    "ROI_masks, mask, croppedImg, maskedImage, ROIimage, processedImage = load_ROI(img, DAPI, roiPath)"
   ]
  },
  {
   "cell_type": "markdown",
   "metadata": {},
   "source": [
    "# **Image Analysis**\n",
    "> #### The analysis is comparing your image to an image where the pixels are randomly distributed throughout the same area"
   ]
  },
  {
   "cell_type": "markdown",
   "metadata": {},
   "source": [
    "## 4. Set neighborhood size & run analysis"
   ]
  },
  {
   "cell_type": "code",
   "execution_count": null,
   "metadata": {
    "scrolled": false
   },
   "outputs": [],
   "source": [
    "%%time\n",
    "nx = 20\n",
    "ny = 20\n",
    "FULLname = name + \"_\" + str(nx) + \"x\" + str(ny)\n",
    "stats = Getis(mask, maskedImage, nx, ny)\n",
    "direction, zs, DL, VL, DM, VM, MLaxisZs, DVaxisZs, quadrantStds = processedStats(stats, maskedImage, FULLname)"
   ]
  },
  {
   "cell_type": "markdown",
   "metadata": {},
   "source": [
    "## 5. Visualizations from Analyzed Image"
   ]
  },
  {
   "cell_type": "code",
   "execution_count": null,
   "metadata": {
    "scrolled": false
   },
   "outputs": [],
   "source": [
    "%%time\n",
    "Heatmap = HeatmapPlot(zs)\n",
    "DV_ML = DV_ML_Plot(stats, zs, MLaxisZs, DVaxisZs, direction)\n",
    "Quadrant = QuadrantPlot(stats, maskedImage, DL, VL, DM, VM)\n",
    "Gstat = statsPlot(stats, maskedImage, \"Gstat\")\n",
    "Hotspot = statsPlot(stats, maskedImage, \"Hotspot\")\n",
    "Zdistribution = ZdistributionPlot(stats, FULLname)"
   ]
  },
  {
   "cell_type": "markdown",
   "metadata": {},
   "source": [
    "## 6. Create new folder, export statistics as CSV and visualizations as PDFs"
   ]
  },
  {
   "cell_type": "code",
   "execution_count": null,
   "metadata": {},
   "outputs": [],
   "source": [
    "if savePath is None:\n",
    "    savePath = imgPath\n",
    "\n",
    "os.chdir(savePath)\n",
    "path = \"./\" + FULLname\n",
    "try:\n",
    "    os.mkdir(path)\n",
    "except OSError:\n",
    "    print (\"Creation of the directory %s failed\" % path)\n",
    "else:\n",
    "    print (\"Successfully created the directory %s \" % path)\n",
    "os.chdir(path)\n",
    "\n",
    "exportStats = stats.to_csv((FULLname + \"_GetisOrdStats.csv\"))\n",
    "imwrite((FULLname + \"_ROI.png\"), ROI_masks['ROI'].astype('uint8')*255)\n",
    "Heatmap.savefig(((FULLname + \"_HeatmapPlot.pdf\")), bbox_inches=\"tight\")\n",
    "DV_ML.savefig(((FULLname + \"_DV_ML_Plot.pdf\")), bbox_inches=\"tight\")\n",
    "Quadrant.savefig(((FULLname + \"_QuadrantPlot.pdf\")), bbox_inches=\"tight\")\n",
    "Gstat.savefig(((FULLname + \"_GstatPlot.pdf\")), bbox_inches=\"tight\")\n",
    "Hotspot.savefig(((FULLname + \"_HotspotPlot.pdf\")), bbox_inches=\"tight\")\n",
    "Zdistribution.savefig(((FULLname + \"_ZdistributionPlot.pdf\")), bbox_inches=\"tight\")\n",
    "del exportStats, Heatmap, DV_ML, Quadrant, Gstat, Hotspot, Zdistribution"
   ]
  },
  {
   "cell_type": "code",
   "execution_count": null,
   "metadata": {},
   "outputs": [],
   "source": []
  }
 ],
 "metadata": {
  "kernelspec": {
   "display_name": "Python 3",
   "language": "python",
   "name": "python3"
  },
  "language_info": {
   "codemirror_mode": {
    "name": "ipython",
    "version": 3
   },
   "file_extension": ".py",
   "mimetype": "text/x-python",
   "name": "python",
   "nbconvert_exporter": "python",
   "pygments_lexer": "ipython3",
   "version": "3.9.5"
  }
 },
 "nbformat": 4,
 "nbformat_minor": 4
}
