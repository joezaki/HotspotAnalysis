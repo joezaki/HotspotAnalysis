{
 "cells": [
  {
   "cell_type": "code",
   "execution_count": null,
   "metadata": {},
   "outputs": [],
   "source": [
    "%load_ext autoreload\n",
    "%autoreload 2\n",
    "import sys\n",
    "sys.path.append(\"./HotspotAnalysis/\")\n",
    "import os\n",
    "from AnalysisFunctions import *\n",
    "from ROIFunctions import *\n",
    "from PlottingFunctions import *\n",
    "import cv2\n",
    "import numpy as np\n",
    "from imageio import imwrite\n",
    "import holoviews as hv\n",
    "from holoviews import opts\n",
    "from skimage.measure import block_reduce\n",
    "from IPython.display import display\n",
    "hv.notebook_extension('bokeh')\n",
    "\n",
    "from scipy.stats import skew\n",
    "import plotly.graph_objects as go\n",
    "from plotly.subplots import make_subplots\n",
    "import plotly.figure_factory as ff\n",
    "import pingouin as pg\n",
    "\n",
    "import hotspot_util\n",
    "fig_config = {'toImageButtonOptions':{'format': 'svg','scale':2}}"
   ]
  },
  {
   "attachments": {},
   "cell_type": "markdown",
   "metadata": {},
   "source": [
    "***\n",
    "### Load one GetisOrd Stats CSV, specify `dpath`"
   ]
  },
  {
   "cell_type": "code",
   "execution_count": null,
   "metadata": {},
   "outputs": [],
   "source": [
    "dpath = '/Users/joezaki/Documents/Bentley_Lab/Mesias_2023/Revision_Analyses/Hotspot_Validation_Analysis/Hotspot_Validation_Data/Figure2_ValidationImage/S1_PFC_Adult1b_sectionB4R_20x20/S1_PFC_Adult1b_sectionB4R_20x20_GetisOrdStats.csv'\n",
    "stats = pd.read_csv(dpath)\n",
    "stats.head()"
   ]
  },
  {
   "attachments": {},
   "cell_type": "markdown",
   "metadata": {},
   "source": [
    "### Compute summary stats for z-scores along DV and ML dimensions"
   ]
  },
  {
   "cell_type": "code",
   "execution_count": null,
   "metadata": {},
   "outputs": [],
   "source": [
    "DV_means = np.zeros(len(stats.x.unique()))\n",
    "DV_sems  = np.zeros(len(stats.x.unique()))\n",
    "DV_max   = np.zeros(len(stats.x.unique()))\n",
    "DV_min   = np.zeros(len(stats.x.unique()))\n",
    "for i, x in enumerate(np.sort(stats.x.unique())):\n",
    "    row = stats[stats['x'] == x]['Z-Score']\n",
    "    DV_means[i] = row.mean()\n",
    "    DV_sems[i]  = row.std() / np.sqrt(len(row))\n",
    "    DV_max[i]   = row.max()\n",
    "    DV_min[i]   = row.min()\n",
    "\n",
    "ML_means = np.zeros(len(stats.y.unique()))\n",
    "ML_sems  = np.zeros(len(stats.y.unique()))\n",
    "ML_max   = np.zeros(len(stats.y.unique()))\n",
    "ML_min   = np.zeros(len(stats.y.unique()))\n",
    "for i, y in enumerate(np.sort(stats.y.unique())):\n",
    "    col = stats[stats['y'] == y]['Z-Score']\n",
    "    ML_means[i] = col.mean()\n",
    "    ML_sems[i]  = col.std() / np.sqrt(len(col))\n",
    "    ML_max[i]   = col.max()\n",
    "    ML_min[i]   = col.min()\n",
    "\n",
    "zscores = stats.pivot('x','y','Z-Score').values"
   ]
  },
  {
   "attachments": {},
   "cell_type": "markdown",
   "metadata": {},
   "source": [
    "### Plot mountain plot with mean as line and SEM as error bars"
   ]
  },
  {
   "cell_type": "code",
   "execution_count": null,
   "metadata": {},
   "outputs": [],
   "source": [
    "heatmap_prop = 0.8 # proportion of subplots made up by heatmap\n",
    "dv_ml_prop = 0.3 # proportion of subplots made up by DV and ML lines\n",
    "subplot_spacing = 0.05\n",
    "fig = make_subplots(rows=2, cols=2, row_heights=[heatmap_prop, dv_ml_prop], horizontal_spacing=subplot_spacing, vertical_spacing=subplot_spacing,\n",
    "                    column_widths=[dv_ml_prop, heatmap_prop])\n",
    "\n",
    "fig.add_trace(go.Heatmap(z=zscores, colorscale='Spectral_r', colorbar=dict(len=0.7), colorbar_y=0.65), row=1, col=2)\n",
    "\n",
    "fig.add_trace(go.Scatter(x=np.arange(zscores.shape[0]), y=ML_means, mode='lines+markers', marker=dict(size=5,color='steelblue'), showlegend=False,\n",
    "                           line=dict(color='steelblue'), error_y=dict(type='data', array=ML_sems, width=0)), row=2, col=2)\n",
    "fig.add_hline(y=0, row=2, col=2, line_color='black', line_width=1, opacity=1)\n",
    "\n",
    "fig.add_trace(go.Scatter(x=DV_means, y=np.arange(zscores.shape[0]), mode='lines+markers', marker=dict(size=5, color='darkred'), showlegend=False,\n",
    "                           line=dict(color='darkred'), error_x=dict(type='data', array=DV_sems, width=0)), row=1, col=1)\n",
    "fig.add_vline(x=0, row=1, col=1, line_color='black', line_width=1, opacity=1)\n",
    "\n",
    "\n",
    "fig.update_layout(template='simple_white', width=800, height=800, font=dict(size=18), title_text='Mean +/- SEM')\n",
    "fig.update_xaxes(visible=False, range=(-1,zscores.shape[1]+1), col=2)\n",
    "fig.update_yaxes(range=(zscores.shape[0]+1,-1), visible=False, row=1)\n",
    "fig.update_xaxes(autorange='reversed', dtick=10, row=1, col=1)\n",
    "fig.update_yaxes(dtick=10, row=2, col=2)\n",
    "fig.show(config=fig_config)"
   ]
  },
  {
   "attachments": {},
   "cell_type": "markdown",
   "metadata": {},
   "source": [
    "### Plot mountain plot with mean as line and SEM as ribbons"
   ]
  },
  {
   "cell_type": "code",
   "execution_count": null,
   "metadata": {},
   "outputs": [],
   "source": [
    "heatmap_prop = 0.8 # proportion of subplots made up by heatmap\n",
    "dv_ml_prop = 0.3 # proportion of subplots made up by DV and ML lines\n",
    "subplot_spacing = 0.05\n",
    "fig = make_subplots(rows=2, cols=2, row_heights=[heatmap_prop, dv_ml_prop], horizontal_spacing=subplot_spacing, vertical_spacing=subplot_spacing,\n",
    "                    column_widths=[dv_ml_prop, heatmap_prop], shared_xaxes=False)\n",
    "\n",
    "fig.add_trace(go.Heatmap(z=zscores, colorscale='Spectral_r', colorbar=dict(len=0.7), colorbar_y=0.65), row=1, col=2)\n",
    "\n",
    "fig.add_trace(go.Scattergl(x=np.arange(zscores.shape[1]), y=(ML_means + ML_sems), mode='lines', fill='tonexty',\n",
    "                           line=dict(color='steelblue', width=0), hoverinfo='skip', showlegend=False, legendgroup='ML'), row=2, col=2)\n",
    "fig.add_trace(go.Scattergl(x=np.arange(zscores.shape[1]), y=(ML_means - ML_sems), mode='lines', fill='tonexty',\n",
    "                           line=dict(color='steelblue', width=0), hoverinfo='skip', showlegend=False, legendgroup='ML'), row=2, col=2)\n",
    "fig.add_trace(go.Scattergl(x=np.arange(zscores.shape[1]), y=ML_means, mode='lines', line=dict(color='steelblue', width=2),\n",
    "                           hoverinfo='skip', showlegend=False, legendgroup='ML'), row=2, col=2)\n",
    "fig.add_hline(y=0, row=2, col=2, line_color='black', line_width=1, opacity=1)\n",
    "\n",
    "\n",
    "fig.add_trace(go.Scattergl(x=(DV_means + DV_sems), y=np.arange(zscores.shape[0]), mode='lines', fill='tonexty',\n",
    "                           line=dict(color='darkred', width=0), hoverinfo='skip', showlegend=False, legendgroup='DV'), row=1, col=1)\n",
    "fig.add_trace(go.Scattergl(x=(DV_means - DV_sems), y=np.arange(zscores.shape[0]), mode='lines', fill='tonexty',\n",
    "                           line=dict(color='darkred', width=0), hoverinfo='skip', showlegend=False, legendgroup='DV'), row=1, col=1)\n",
    "fig.add_trace(go.Scattergl(x=DV_means, y=np.arange(zscores.shape[0]), mode='lines', line=dict(color='darkred', width=2),\n",
    "                           hoverinfo='skip', showlegend=False, legendgroup='DV'), row=1, col=1)\n",
    "fig.add_vline(x=0, row=1, col=1, line_color='black', line_width=1, opacity=1)\n",
    "\n",
    "\n",
    "fig.update_layout(template='simple_white', width=800, height=800, font=dict(size=18), title_text='Mean +/- SEM')\n",
    "fig.update_xaxes(visible=False, range=(-1,zscores.shape[1]+1), col=2)\n",
    "fig.update_yaxes(range=(zscores.shape[0]+1,-1), visible=False, row=1)\n",
    "fig.update_xaxes(autorange='reversed', dtick=10, row=1, col=1)\n",
    "fig.update_yaxes(dtick=10, row=2, col=2)\n",
    "fig.show(config=fig_config)"
   ]
  },
  {
   "attachments": {},
   "cell_type": "markdown",
   "metadata": {},
   "source": [
    "### Plot mountain plot with mean as line and max/min as ribbons"
   ]
  },
  {
   "cell_type": "code",
   "execution_count": null,
   "metadata": {},
   "outputs": [],
   "source": [
    "heatmap_prop = 0.8 # proportion of subplots made up by heatmap\n",
    "dv_ml_prop = 0.3 # proportion of subplots made up by DV and ML lines\n",
    "subplot_spacing = 0.05\n",
    "fig = make_subplots(rows=2, cols=2, row_heights=[heatmap_prop, dv_ml_prop], horizontal_spacing=subplot_spacing, vertical_spacing=subplot_spacing,\n",
    "                    column_widths=[dv_ml_prop, heatmap_prop], shared_xaxes=False)\n",
    "\n",
    "fig.add_trace(go.Heatmap(z=zscores, colorscale='Spectral_r', colorbar=dict(len=0.7), colorbar_y=0.65), row=1, col=2)\n",
    "\n",
    "fig.add_trace(go.Scattergl(x=np.arange(zscores.shape[1]), y=ML_max, mode='lines', fill='tonexty',\n",
    "                           line=dict(color='steelblue', width=0), hoverinfo='skip', showlegend=False, legendgroup='ML'), row=2, col=2)\n",
    "fig.add_trace(go.Scattergl(x=np.arange(zscores.shape[1]), y=ML_min, mode='lines', fill='tonexty',\n",
    "                           line=dict(color='steelblue', width=0), hoverinfo='skip', showlegend=False, legendgroup='ML'), row=2, col=2)\n",
    "fig.add_trace(go.Scattergl(x=np.arange(zscores.shape[1]), y=ML_means, mode='lines', line=dict(color='steelblue', width=2),\n",
    "                           hoverinfo='skip', showlegend=False, legendgroup='ML'), row=2, col=2)\n",
    "fig.add_hline(y=0, row=2, col=2, line_color='black', line_width=1, opacity=1)\n",
    "\n",
    "\n",
    "fig.add_trace(go.Scattergl(x=DV_max, y=np.arange(zscores.shape[0]), mode='lines', fill='tonexty',\n",
    "                           line=dict(color='darkred', width=0), hoverinfo='skip', showlegend=False, legendgroup='DV'), row=1, col=1)\n",
    "fig.add_trace(go.Scattergl(x=DV_min, y=np.arange(zscores.shape[0]), mode='lines', fill='tonexty',\n",
    "                           line=dict(color='darkred', width=0), hoverinfo='skip', showlegend=False, legendgroup='DV'), row=1, col=1)\n",
    "fig.add_trace(go.Scattergl(x=DV_means, y=np.arange(zscores.shape[0]), mode='lines', line=dict(color='darkred', width=2),\n",
    "                           hoverinfo='skip', showlegend=False, legendgroup='DV'), row=1, col=1)\n",
    "fig.add_vline(x=0, row=1, col=1, line_color='black', line_width=1, opacity=1)\n",
    "\n",
    "fig.add_shape(type='rect', x0=0, x1=1, y0=0, y1=1)\n",
    "\n",
    "\n",
    "fig.update_layout(template='simple_white', width=800, height=800, font=dict(size=18), title_text='Mean +/- Max/Min')\n",
    "fig.update_xaxes(visible=False, range=(-1,zscores.shape[1]+1), col=2)\n",
    "fig.update_yaxes(range=(zscores.shape[0]+1,-1), visible=False, row=1)\n",
    "fig.update_xaxes(autorange='reversed', dtick=20, row=1, col=1)\n",
    "fig.update_yaxes(dtick=20, row=2, col=2)\n",
    "fig.show(config=fig_config)"
   ]
  },
  {
   "attachments": {},
   "cell_type": "markdown",
   "metadata": {},
   "source": [
    "### Plot mountain plot with mean as line and SEM as ribbons and max/min as dotted lines"
   ]
  },
  {
   "cell_type": "code",
   "execution_count": null,
   "metadata": {},
   "outputs": [],
   "source": [
    "heatmap_prop = 0.8 # proportion of subplots made up by heatmap\n",
    "dv_ml_prop = 0.3 # proportion of subplots made up by DV and ML lines\n",
    "subplot_spacing = 0.05\n",
    "fig = make_subplots(rows=2, cols=2, row_heights=[heatmap_prop, dv_ml_prop], horizontal_spacing=subplot_spacing, vertical_spacing=subplot_spacing,\n",
    "                    column_widths=[dv_ml_prop, heatmap_prop], shared_xaxes=False)\n",
    "\n",
    "fig.add_trace(go.Heatmap(z=zscores, colorscale='Spectral_r', colorbar=dict(len=0.7), colorbar_y=0.65), row=1, col=2)\n",
    "\n",
    "fig.add_trace(go.Scattergl(x=np.arange(zscores.shape[1]), y=(ML_means + ML_sems), mode='lines', fill='tonexty',\n",
    "                           line=dict(color='steelblue', width=0), hoverinfo='skip', showlegend=False, legendgroup='ML'), row=2, col=2)\n",
    "fig.add_trace(go.Scattergl(x=np.arange(zscores.shape[1]), y=(ML_means - ML_sems), mode='lines', fill='tonexty',\n",
    "                           line=dict(color='steelblue', width=0), hoverinfo='skip', showlegend=False, legendgroup='ML'), row=2, col=2)\n",
    "fig.add_trace(go.Scattergl(x=np.arange(zscores.shape[1]), y=ML_means, mode='lines', line=dict(color='steelblue', width=2),\n",
    "                           hoverinfo='skip', showlegend=False, legendgroup='ML'), row=2, col=2)\n",
    "fig.add_hline(y=0, row=2, col=2, line_color='black', line_width=1, opacity=1)\n",
    "\n",
    "fig.add_trace(go.Scattergl(x=np.arange(zscores.shape[1]), y=ML_max, mode='lines', fill='tonexty',\n",
    "                           line=dict(color='steelblue', width=2, dash='dot'), hoverinfo='skip', showlegend=False, legendgroup='ML'), row=2, col=2)\n",
    "fig.add_trace(go.Scattergl(x=np.arange(zscores.shape[1]), y=ML_min, mode='lines', fill='tonexty',\n",
    "                           line=dict(color='steelblue', width=2, dash='dot'), hoverinfo='skip', showlegend=False, legendgroup='ML'), row=2, col=2)\n",
    "\n",
    "\n",
    "fig.add_trace(go.Scattergl(x=(DV_means + DV_sems), y=np.arange(zscores.shape[0]), mode='lines', fill='tonexty',\n",
    "                           line=dict(color='darkred', width=0), hoverinfo='skip', showlegend=False, legendgroup='DV'), row=1, col=1)\n",
    "fig.add_trace(go.Scattergl(x=(DV_means - DV_sems), y=np.arange(zscores.shape[0]), mode='lines', fill='tonexty',\n",
    "                           line=dict(color='darkred', width=0), hoverinfo='skip', showlegend=False, legendgroup='DV'), row=1, col=1)\n",
    "fig.add_trace(go.Scattergl(x=DV_means, y=np.arange(zscores.shape[0]), mode='lines', line=dict(color='darkred', width=2),\n",
    "                           hoverinfo='skip', showlegend=False, legendgroup='DV'), row=1, col=1)\n",
    "fig.add_vline(x=0, row=1, col=1, line_color='black', line_width=1, opacity=1)\n",
    "\n",
    "fig.add_trace(go.Scattergl(x=DV_max, y=np.arange(zscores.shape[0]), mode='lines', fill='tonexty',\n",
    "                           line=dict(color='darkred', width=2, dash='dot'), hoverinfo='skip', showlegend=False, legendgroup='DV'), row=1, col=1)\n",
    "fig.add_trace(go.Scattergl(x=DV_min, y=np.arange(zscores.shape[0]), mode='lines', fill='tonexty',\n",
    "                           line=dict(color='darkred', width=2, dash='dot'), hoverinfo='skip', showlegend=False, legendgroup='DV'), row=1, col=1)\n",
    "\n",
    "\n",
    "fig.update_layout(template='simple_white', width=800, height=800, font=dict(size=18), title_text='Mean +/- SEM and Max/Min')\n",
    "fig.update_xaxes(visible=False, range=(-1,zscores.shape[1]+1), col=2)\n",
    "fig.update_yaxes(range=(zscores.shape[0]+1,-1), visible=False, row=1)\n",
    "fig.update_xaxes(autorange='reversed', dtick=20, row=1, col=1)\n",
    "fig.update_yaxes(dtick=20, row=2, col=2)\n",
    "fig.show(config=fig_config)"
   ]
  },
  {
   "cell_type": "code",
   "execution_count": null,
   "metadata": {},
   "outputs": [],
   "source": []
  }
 ],
 "metadata": {
  "kernelspec": {
   "display_name": "hotspot",
   "language": "python",
   "name": "python3"
  },
  "language_info": {
   "codemirror_mode": {
    "name": "ipython",
    "version": 3
   },
   "file_extension": ".py",
   "mimetype": "text/x-python",
   "name": "python",
   "nbconvert_exporter": "python",
   "pygments_lexer": "ipython3",
   "version": "3.11.0"
  },
  "orig_nbformat": 4
 },
 "nbformat": 4,
 "nbformat_minor": 2
}
