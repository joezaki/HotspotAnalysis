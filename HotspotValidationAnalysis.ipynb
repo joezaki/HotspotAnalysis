{
 "cells": [
  {
   "cell_type": "code",
   "execution_count": null,
   "id": "b5df12dc",
   "metadata": {},
   "outputs": [],
   "source": [
    "%load_ext autoreload\n",
    "%autoreload 2\n",
    "import sys\n",
    "sys.path.append(\"./HotspotAnalysis/\")\n",
    "import os\n",
    "from AnalysisFunctions import *\n",
    "from ROIFunctions import *\n",
    "from PlottingFunctions import *\n",
    "import cv2\n",
    "import numpy as np\n",
    "from imageio import imwrite\n",
    "import holoviews as hv\n",
    "from holoviews import opts\n",
    "from skimage.measure import block_reduce\n",
    "from IPython.display import display\n",
    "hv.notebook_extension('bokeh')\n",
    "\n",
    "from scipy.stats import skew\n",
    "import plotly.graph_objects as go\n",
    "from plotly.subplots import make_subplots\n",
    "import plotly.figure_factory as ff\n",
    "from tqdm.notebook import tqdm\n",
    "import pingouin as pg\n",
    "\n",
    "# from IPython.display import display, HTML\n",
    "# display(HTML(\"\"\"\n",
    "# <style>\n",
    "# .output {\n",
    "#    display: flex;\n",
    "#    align-items: center;\n",
    "#    text-align: center;\n",
    "#    }\n",
    "# </style>\n",
    "# \"\"\"))\n",
    "# display(HTML(\"<style>.container { width:90% !important; }</style>\"))\n",
    "\n",
    "import hotspot_util\n",
    "fig_config = {'toImageButtonOptions':{'format': 'svg','scale':2}}"
   ]
  },
  {
   "attachments": {},
   "cell_type": "markdown",
   "id": "9de26ec4",
   "metadata": {},
   "source": [
    "## Load an image"
   ]
  },
  {
   "cell_type": "code",
   "execution_count": null,
   "id": "4c6fec5a",
   "metadata": {},
   "outputs": [],
   "source": [
    "imgPath = '/Users/joezaki/Documents/Bentley_Lab/Mesias_2023/Revision_Analyses/Hotspot_Validation_Analysis/Hotspot_Validation_Data/tiff/'\n",
    "images = np.array(os.listdir(imgPath))\n",
    "image_bool = [x.split('.')[-1] == 'tiff' for x in images]\n",
    "not_roi_bool = ['ROI' not in x for x in images]\n",
    "images = images[(image_bool and not_roi_bool)]\n",
    "\n",
    "imgName = images[5]\n",
    "savePath = None\n",
    "\n",
    "img, DAPI = loadImage(imgPath=imgPath, imgName=imgName, img_channel=0, DAPI_channel=1)\n",
    "\n",
    "name = imgName.split(\".\")[0]\n",
    "opts.defaults(\n",
    "    opts.GridSpace(shared_xaxis=True, shared_yaxis=True),\n",
    "    opts.Image(cmap='gist_gray', width=int(img.shape[1]/3), height=int(img.shape[0]/3)),\n",
    "    opts.Labels(text_color='white', text_font_size='8pt', text_align='left', text_baseline='bottom'),\n",
    "    opts.Path(color='white'),\n",
    "    opts.Spread(width=600),\n",
    "    opts.Overlay(show_legend=False))\n",
    "\n",
    "%output size=80\n",
    "allChannels = np.dstack((DAPI, img))\n",
    "ds = hv.Dataset((['DAPI','Image'], np.arange(DAPI.shape[1]), np.arange(DAPI.shape[0]), allChannels), ['Channel','X', 'Y'], 'Intensity')\n",
    "allChannelsPlot = ds.to(hv.Image, ['X', 'Y'], dynamic=True)\n",
    "allChannelsPlot.opts(invert_yaxis=True)"
   ]
  },
  {
   "cell_type": "markdown",
   "id": "6cefc2af",
   "metadata": {},
   "source": [
    "## Remove saturated pixels"
   ]
  },
  {
   "cell_type": "code",
   "execution_count": null,
   "id": "530525ba",
   "metadata": {},
   "outputs": [],
   "source": [
    "#%%output size=100\n",
    "if type(img[0,0]) == np.uint8:\n",
    "    threshold = 200\n",
    "elif type(img[0,0]) == np.uint16:\n",
    "    threshold = 50000\n",
    "else:\n",
    "    raise Exception(\"img is not 8- or 16-bit\")\n",
    "imgNew = img.copy()\n",
    "avgPixel = np.mean(img)\n",
    "imgNew[imgNew > threshold] = avgPixel\n",
    "thresholded = np.dstack((img, imgNew))\n",
    "ds = hv.Dataset((np.arange(2), np.arange(img.shape[1]), np.arange(img.shape[0]), thresholded), ['Threshold','X', 'Y'], 'Intensity')\n",
    "thresholdedPlots = ds.to(hv.Image, ['X', 'Y'], dynamic=True)\n",
    "thresholdedPlots.opts(invert_yaxis=True)"
   ]
  },
  {
   "cell_type": "code",
   "execution_count": null,
   "id": "8b17293f",
   "metadata": {},
   "outputs": [],
   "source": [
    "img = imgNew"
   ]
  },
  {
   "cell_type": "code",
   "execution_count": null,
   "id": "6c558e7e",
   "metadata": {},
   "outputs": [],
   "source": [
    "roiPath = os.path.join(imgPath, '{}_ROI.tiff'.format(imgName.split('.')[0]))\n",
    "mask, croppedImg, maskedImage, ROIimage, processedImage = load_ROI(img, DAPI, roiPath)\n",
    "#del DAPI"
   ]
  },
  {
   "cell_type": "markdown",
   "id": "dd175578",
   "metadata": {},
   "source": [
    "## Create processed image of randomized pixels"
   ]
  },
  {
   "cell_type": "code",
   "execution_count": null,
   "id": "29ac8057",
   "metadata": {},
   "outputs": [],
   "source": [
    "randArray = maskedImage.copy()\n",
    "random_pixels = np.random.choice(a=maskedImage[~maskedImage.mask].data, size=maskedImage[~maskedImage.mask].data.size, replace=False)\n",
    "randArray[~randArray.mask] = random_pixels"
   ]
  },
  {
   "cell_type": "code",
   "execution_count": null,
   "id": "5a9ff5f7",
   "metadata": {},
   "outputs": [],
   "source": [
    "# from tqdm import tqdm_notebook\n",
    "# for i, val in enumerate(tqdm_notebook(random_pixels)):\n",
    "#     rand_array[~rand_array.mask][i] = val"
   ]
  },
  {
   "cell_type": "code",
   "execution_count": null,
   "id": "bf10d9df",
   "metadata": {},
   "outputs": [],
   "source": [
    "maskedImage.shape"
   ]
  },
  {
   "cell_type": "code",
   "execution_count": null,
   "id": "09964d91",
   "metadata": {
    "scrolled": false
   },
   "outputs": [],
   "source": [
    "%output size=25\n",
    "allChannels = np.dstack((maskedImage.filled(-1), randArray.filled(-1)))\n",
    "ds = hv.Dataset((['Image','Randomized'], np.arange(maskedImage.shape[1]), np.arange(maskedImage.shape[0]), allChannels), ['Channel','X', 'Y'], 'Intensity')\n",
    "allChannelsPlot = ds.to(hv.Image, ['X', 'Y'], dynamic=True)\n",
    "allChannelsPlot.opts(opts.Image(tools=['hover'], invert_yaxis=True, width=int(maskedImage.shape[1]), height=int(maskedImage.shape[0])))"
   ]
  },
  {
   "cell_type": "markdown",
   "id": "4bf7fbc4",
   "metadata": {},
   "source": [
    "## Run hotspot analysis on both actual image and randomized image"
   ]
  },
  {
   "cell_type": "code",
   "execution_count": null,
   "id": "21d63d4b",
   "metadata": {},
   "outputs": [],
   "source": [
    "FULLname = 'P56_RBP4Cre_Dual_Inj_050320_sectionB5R_20x20'"
   ]
  },
  {
   "cell_type": "code",
   "execution_count": null,
   "id": "45032955",
   "metadata": {},
   "outputs": [],
   "source": [
    "%%time\n",
    "nx = 20\n",
    "ny = 20\n",
    "FULLname = name + \"_\" + str(nx) + \"x\" + str(ny)\n",
    "# stats_actual = Getis(mask, maskedImage, nx, ny)\n",
    "\n",
    "stats_actual = Getis_parallel(mask, maskedImage, nx, ny)\n",
    "\n",
    "direction_actual, zs_actual, DL_actual, VL_actual, DM_actual, VM_actual, MLaxisZs_actual, DVaxisZs_actual, quadrantStds_actual = processedStats(stats_actual, maskedImage, FULLname)"
   ]
  },
  {
   "cell_type": "code",
   "execution_count": null,
   "id": "a27d850e",
   "metadata": {},
   "outputs": [],
   "source": [
    "%%time\n",
    "nx = 20\n",
    "ny = 20\n",
    "FULLname = name + \"_\" + str(nx) + \"x\" + str(ny)\n",
    "# stats_rand = Getis(mask, randArray, nx, ny)\n",
    "\n",
    "stats_rand = Getis_parallel(mask, randArray, nx, ny)\n",
    "\n",
    "direction_rand, zs_rand, DL_rand, VL_rand, DM_rand, VM_rand, MLaxisZs_rand, DVaxisZs_rand, quadrantStds_rand = processedStats(stats_rand, randArray, FULLname)"
   ]
  },
  {
   "cell_type": "markdown",
   "id": "258086ca",
   "metadata": {},
   "source": [
    "### Save actual and random image stats"
   ]
  },
  {
   "cell_type": "code",
   "execution_count": null,
   "id": "3a2750c4",
   "metadata": {},
   "outputs": [],
   "source": [
    "if savePath is None:\n",
    "    savePath = imgPath\n",
    "    savePath = os.path.abspath(savePath)\n",
    "\n",
    "path = os.path.join(savePath, FULLname)\n",
    "try:\n",
    "    os.mkdir(path)\n",
    "except OSError:\n",
    "    print (\"Creation of the directory %s failed\" % path)\n",
    "else:\n",
    "    print (\"Successfully created the directory %s \" % path)\n",
    "os.chdir(path)\n",
    "\n",
    "stats_actual.to_csv((FULLname + \"_GetisOrdStats_Actual.csv\"))\n",
    "stats_rand.to_csv((FULLname + \"_GetisOrdStats_Randomized.csv\"))"
   ]
  },
  {
   "attachments": {},
   "cell_type": "markdown",
   "id": "73ab54ca",
   "metadata": {},
   "source": [
    "***\n",
    "### Calculate how the mean, sd, and skew of the z-scores varies depending on the neighborhood size"
   ]
  },
  {
   "cell_type": "code",
   "execution_count": null,
   "id": "779a30eb",
   "metadata": {},
   "outputs": [],
   "source": [
    "max_n_size = np.round((np.max(img.shape)/5)/20)*20\n",
    "delta_n = 10\n",
    "neighborhood_sizes = np.arange(delta_n, max_n_size, delta_n).astype(int)\n",
    "\n",
    "neighborhood_size_df = pd.DataFrame(columns=['Neighborhood', 'Mean', 'SD', 'Skew'])\n",
    "\n",
    "for n_size in tqdm(neighborhood_sizes):\n",
    "    nx = n_size\n",
    "    ny = n_size\n",
    "    \n",
    "    neighborhood_stats = Getis_parallel(mask, maskedImage, nx, ny)\n",
    "    zscores = neighborhood_stats['Z-Score']\n",
    "    neighborhood_size_df = neighborhood_size_df.append(pd.Series({'Neighborhood':n_size, 'Mean':zscores.mean(), 'SD':zscores.std(), 'Skew':skew(zscores)}), ignore_index=True) "
   ]
  },
  {
   "cell_type": "code",
   "execution_count": null,
   "id": "ca51fb01",
   "metadata": {},
   "outputs": [],
   "source": [
    "fig = make_subplots(cols=3)\n",
    "\n",
    "for i, readout in enumerate(['Mean', 'SD', 'Skew']):\n",
    "    fig.add_trace(go.Scattergl(x=neighborhood_size_df['Neighborhood'], y=neighborhood_size_df[readout],\n",
    "                               mode='lines+markers', line=dict(width=2, color='black'), showlegend=False), row=1, col=i+1)\n",
    "    fig.update_xaxes(title_text='Neighborhood Size')\n",
    "    y_range = (0,neighborhood_size_df[readout].max()+1)\n",
    "    y_range = None\n",
    "    fig.update_yaxes(title_text=readout, range=y_range, row=1, col=i+1)\n",
    "\n",
    "fig.update_layout(template='simple_white', width=1200, height=400)\n",
    "fig.show()"
   ]
  },
  {
   "attachments": {},
   "cell_type": "markdown",
   "id": "091548f7",
   "metadata": {},
   "source": [
    "***\n",
    "### Plot actual vs random hotspots and distributions (optional), and save if desired"
   ]
  },
  {
   "cell_type": "code",
   "execution_count": null,
   "id": "82e72d8e",
   "metadata": {},
   "outputs": [],
   "source": [
    "%output size=100\n",
    "scale_rand_plot = True\n",
    "allChannels = np.dstack((zs_actual, zs_rand))\n",
    "ds = hv.Dataset((['Image','Randomized'], np.arange(zs_actual.shape[1]), np.arange(zs_actual.shape[0]), allChannels), ['Channel','X', 'Y'], 'Intensity')\n",
    "allChannelsPlot = ds.to(hv.Image, ['X', 'Y'], dynamic=True)\n",
    "if scale_rand_plot:\n",
    "    display(allChannelsPlot.opts(opts.Image(tools=['hover'],\n",
    "                                            cmap='Spectral_r', colorbar=True, invert_yaxis=True,\n",
    "                                            width=int(maskedImage.shape[1]), height=int(maskedImage.shape[0]),\n",
    "                                            clim=(zs_actual[~np.isnan(zs_actual)].min(),zs_actual[~np.isnan(zs_actual)].max()))))\n",
    "else:\n",
    "    display(allChannelsPlot.opts(opts.Image(tools=['hover'],\n",
    "                                            width=int(maskedImage.shape[1]), height=int(maskedImage.shape[0]),\n",
    "                                            cmap='Spectral_r', colorbar=True, invert_yaxis=True)))"
   ]
  },
  {
   "cell_type": "code",
   "execution_count": null,
   "id": "4bd4aa15",
   "metadata": {},
   "outputs": [],
   "source": [
    "Heatmap_actual = HeatmapPlot(zs_actual)\n",
    "Heatmap_rand = HeatmapPlot(zs_rand)\n",
    "# Heatmap_actual.savefig(((FULLname + \"actual_Heatmap_Plot.pdf\")), bbox_inches=\"tight\")\n",
    "# Heatmap_rand.savefig(((FULLname + \"rand_Heatmap_Plot.pdf\")), bbox_inches=\"tight\")"
   ]
  },
  {
   "cell_type": "code",
   "execution_count": null,
   "id": "7f1c965d",
   "metadata": {},
   "outputs": [],
   "source": [
    "freq_actual, edges_actual = np.histogram(zs_actual[~np.isnan(zs_actual)], 100)\n",
    "freq_rand, edges_rand     = np.histogram(zs_rand[~np.isnan(zs_rand)], 10)\n",
    "\n",
    "color1 = 'steelblue'\n",
    "color2 = 'darkred'\n",
    "xlabel = 'Z Scores'\n",
    "alpha = 0.8\n",
    "line_width = 0.1\n",
    "plot_width = 800\n",
    "aspect = 2\n",
    "\n",
    "same_plot = True\n",
    "if same_plot:\n",
    "    fig = hv.NdOverlay({'Image': hv.Histogram((edges_actual, freq_actual)).opts(color=color1),\n",
    "                        'Randomized': hv.Histogram((edges_rand, freq_rand)).opts(color=color2)}).opts(\n",
    "        'Histogram', xlabel=xlabel, width=plot_width, aspect=aspect, alpha=alpha, line_width=line_width, title='Image & Randomized Image')\n",
    "    fig.get_dimension('Element').label=''\n",
    "    display(fig)\n",
    "else:\n",
    "    display(\n",
    "        hv.Histogram((edges_actual, freq_actual)).opts(xlabel=xlabel, width=plot_width, aspect=aspect, color=color1, alpha=alpha, line_width=line_width).opts(title='Image') +\n",
    "        hv.Histogram((edges_rand, freq_rand)).opts(xlabel=xlabel, width=plot_width, aspect=aspect, color=color2, alpha=alpha, line_width=line_width).opts(title='Randomized Image'))"
   ]
  },
  {
   "cell_type": "code",
   "execution_count": null,
   "id": "072ad0d4",
   "metadata": {
    "scrolled": false
   },
   "outputs": [],
   "source": [
    "DV_ML_actual = DV_ML_Plot(stats_actual, zs_actual, MLaxisZs_actual, DVaxisZs_actual, direction_actual)\n",
    "DV_ML_rand = DV_ML_Plot(stats_rand, zs_rand, MLaxisZs_rand, DVaxisZs_rand, direction_rand)\n",
    "# DV_ML_actual.savefig(((FULLname + \"actual_DV_ML_Plot.pdf\")), bbox_inches=\"tight\")\n",
    "# DV_ML_rand.savefig(((FULLname + \"rand_DV_ML_Plot.pdf\")), bbox_inches=\"tight\")"
   ]
  },
  {
   "cell_type": "code",
   "execution_count": null,
   "id": "ebdab3d8",
   "metadata": {},
   "outputs": [],
   "source": [
    "Quadrant_actual = QuadrantPlot(stats_actual, maskedImage, DL_actual, VL_actual, DM_actual, VM_actual)\n",
    "Quadrant_rand = QuadrantPlot(stats_rand, randArray, DL_rand, VL_rand, DM_rand, VM_rand)\n",
    "# Quadrant_actual.savefig(((FULLname + \"actual_Quadrant_Plot.pdf\")), bbox_inches=\"tight\")\n",
    "# Quadrant_rand.savefig(((FULLname + \"rand_Quadrant_Plot.pdf\")), bbox_inches=\"tight\")"
   ]
  },
  {
   "attachments": {},
   "cell_type": "markdown",
   "id": "5349ee9d",
   "metadata": {},
   "source": [
    "***\n",
    "### Measure summary stats of actual vs random images for a list of images"
   ]
  },
  {
   "cell_type": "code",
   "execution_count": null,
   "id": "d97c9f69",
   "metadata": {},
   "outputs": [],
   "source": [
    "overall_path = '/Users/joezaki/Documents/Bentley_Lab/Mesias_2023/Revision_Analyses/Hotspot_Validation_Analysis/Hotspot_Validation_Data/tiff/'\n",
    "\n",
    "file_list = ['S1_PFC_Adult1b_sectionB4R', 'S1PFC_Adult1c_sectionB4R', 'P56_307GFP_sectionA1L', 'P56_RBP4Cre_Dual_Inj_050320_sectionB5R']\n",
    "\n",
    "summary_df = pd.DataFrame(columns=['Filename', 'ActualRand', 'Mean', 'SD', 'Skew'])\n",
    "\n",
    "for file in file_list:\n",
    "    actual_path = os.path.join(overall_path, '{}_20x20/{}_20x20_GetisOrdStats_Actual.csv'.format(file,file))\n",
    "    rand_path = os.path.join(overall_path, '{}_20x20/{}_20x20_GetisOrdStats_Randomized.csv'.format(file,file))\n",
    "\n",
    "    actual_df = pd.read_csv(actual_path)\n",
    "    rand_df = pd.read_csv(rand_path)\n",
    "\n",
    "    fig = ff.create_distplot(hist_data=[actual_df['Z-Score'].values, rand_df['Z-Score'].values], group_labels=['Actual', 'Randomized'],\n",
    "                             show_rug=False, bin_size=1, colors=['steelblue', 'darkred'])\n",
    "    fig.update_layout(template='simple_white', width=600, height=400, font=dict(size=15),\n",
    "                      xaxis_title='Z-Score', yaxis_title='Frequency', title_text=file)\n",
    "    fig.update_yaxes(type='log', tickformat='.0e')\n",
    "    fig.show(renderer='notebook_connected', config=fig_config)\n",
    "\n",
    "    for label, df in zip(['Actual','Randomized'], [actual_df, rand_df]):\n",
    "        mean_z = df['Z-Score'].mean()\n",
    "        sd_z   = df['Z-Score'].std()\n",
    "        skew_z = skew(df['Z-Score'])\n",
    "        summary_df = summary_df.append(pd.Series({'Filename':file, 'ActualRand':label, 'Mean':mean_z, 'SD':sd_z, 'Skew':skew_z}), ignore_index=True)"
   ]
  },
  {
   "cell_type": "code",
   "execution_count": null,
   "id": "a89ff5de",
   "metadata": {},
   "outputs": [],
   "source": [
    "agg_data = summary_df.copy()\n",
    "groupby = 'ActualRand'\n",
    "plot_var = 'Mean'\n",
    "hotspot_util.plotMeanData(agg_data=agg_data, groupby=groupby, plot_var=plot_var, plot_datalines=True, colors = ['steelblue', 'darkred'], y_title=plot_var, y_range=(0,agg_data[plot_var].max()+0.1), plot_width=300)\n",
    "pg.rm_anova(data=agg_data, dv=plot_var, within='ActualRand', subject='Filename')"
   ]
  },
  {
   "cell_type": "code",
   "execution_count": null,
   "id": "b154f552",
   "metadata": {},
   "outputs": [],
   "source": []
  }
 ],
 "metadata": {
  "kernelspec": {
   "display_name": "Python 3",
   "language": "python",
   "name": "python3"
  },
  "language_info": {
   "codemirror_mode": {
    "name": "ipython",
    "version": 3
   },
   "file_extension": ".py",
   "mimetype": "text/x-python",
   "name": "python",
   "nbconvert_exporter": "python",
   "pygments_lexer": "ipython3",
   "version": "3.6.13"
  }
 },
 "nbformat": 4,
 "nbformat_minor": 5
}
