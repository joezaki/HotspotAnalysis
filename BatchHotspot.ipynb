{
 "cells": [
  {
   "cell_type": "code",
   "execution_count": null,
   "metadata": {},
   "outputs": [],
   "source": [
    "import sys\n",
    "sys.path.append(\"/home/joezaki/Documents/PythonScripts/HotspotAnalysis/HotspotAnalysis/\")\n",
    "import os\n",
    "from AnalysisFunctions import *\n",
    "from ROIFunctions import *\n",
    "from PlottingFunctions import *\n",
    "from BatchFunctions import *\n",
    "import cv2\n",
    "import numpy as np\n",
    "from imageio import imwrite\n",
    "import matplotlib\n",
    "matplotlib.use('Agg')\n",
    "from skimage.measure import block_reduce"
   ]
  },
  {
   "cell_type": "markdown",
   "metadata": {},
   "source": [
    "## 1. Load image and ROI directories\n",
    "#### Files should be organized with one folder that contains two sub-folders:\n",
    "> ##### An 'Images' folder with all the images in it\n",
    "> ##### And an 'ROIs' folder with all the ROIs in it\n",
    "#### Image names should be written with the following format: \"MouseName_ExperimentalInfo_sectionX#D.tif\", where: \n",
    "> ##### X is the row number of the section\n",
    "> ##### # is the section number\n",
    "> ##### D is the direction of the section ('L' or 'l' for left; 'R' or 'r' for right)\n",
    "##### Note: An image and its corresponding ROI should have the same name other than '_img' and '_roi' at the end"
   ]
  },
  {
   "cell_type": "code",
   "execution_count": null,
   "metadata": {},
   "outputs": [],
   "source": [
    "filesDir = '/home/joezaki/Documents/HuntleyBenson_Lab/Hotspot_example_images/'\n",
    "images, ROIs = loadImagesROIs(filesDir)"
   ]
  },
  {
   "cell_type": "markdown",
   "metadata": {},
   "source": [
    "## 2. Set threshold for corticospinal axon pixel removal"
   ]
  },
  {
   "cell_type": "code",
   "execution_count": null,
   "metadata": {},
   "outputs": [],
   "source": [
    "threshold = 200\n",
    "downsample = False"
   ]
  },
  {
   "cell_type": "markdown",
   "metadata": {},
   "source": [
    "## 3. Set neighborhood size, run batch analysis, & save folder for each image"
   ]
  },
  {
   "cell_type": "code",
   "execution_count": null,
   "metadata": {},
   "outputs": [],
   "source": [
    "test = images[0].split('_img.')[0]\n",
    "vars()[test] = 3\n",
    "P21BL6JNT_sectionB1R"
   ]
  },
  {
   "cell_type": "code",
   "execution_count": null,
   "metadata": {},
   "outputs": [],
   "source": [
    "%%time\n",
    "nx = 20\n",
    "ny = 20\n",
    "\n",
    "BatchHotspot(filesDir, images, ROIs, threshold, downsample, nx, ny)"
   ]
  },
  {
   "cell_type": "code",
   "execution_count": null,
   "metadata": {},
   "outputs": [],
   "source": []
  }
 ],
 "metadata": {
  "kernelspec": {
   "display_name": "Python 3",
   "language": "python",
   "name": "python3"
  },
  "language_info": {
   "codemirror_mode": {
    "name": "ipython",
    "version": 3
   },
   "file_extension": ".py",
   "mimetype": "text/x-python",
   "name": "python",
   "nbconvert_exporter": "python",
   "pygments_lexer": "ipython3",
   "version": "3.7.3"
  }
 },
 "nbformat": 4,
 "nbformat_minor": 4
}
